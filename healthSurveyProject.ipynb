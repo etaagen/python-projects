{
 "cells": [
  {
   "cell_type": "markdown",
   "metadata": {},
   "source": [
    "<div class=\"alert alert-block alert-success\">\n",
    "\n",
    "### Probability and stats practice with python using the **NHANES** datasets from [Kaggle](https://www.kaggle.com/datasets/cdc/national-health-and-nutrition-examination-survey) 💊\n",
    "\n",
    "**Author:** Ellie Taagen   \n",
    "\n",
    "**Date:** March 2025\n",
    "\n",
    "**Read Me:** for this notebook's features to render please open in [nbviewer](https://nbviewer.org/github.com/etaagen/python-projects/blob/main/healthSurveyProject.ipynb), instead of GitHub.  \n",
    "\n",
    "### 📓 Table of contents <a class='anchor' id='top'></a>\n",
    "- [Quickstart](#quickstart)\n",
    "- [Data cleaning](#data-cleaning)\n",
    "- [Summary](#summary)\n",
    "    \n",
    "</div>"
   ]
  },
  {
   "cell_type": "markdown",
   "metadata": {},
   "source": [
    "### Quickstart <a class=\"anchor\" id=\"quickstart\"></a>\n",
    "We are going to load the libraries and National Health and Nutrition Examination Survey (NHANES) datasets. We can analyze stats for\n",
    "questionaire responses, find outliers, and compare answers across groups (demographic or age etc.)"
   ]
  },
  {
   "cell_type": "code",
   "execution_count": 1,
   "metadata": {},
   "outputs": [],
   "source": [
    "###### Import libraries ######\n",
    "import numpy as np\n",
    "import pandas as pd\n",
    "import scipy as sp\n",
    "import scipy.stats as stats\n",
    "import matplotlib.pyplot as plt\n",
    "import seaborn as sns\n",
    "import billboard\n",
    "\n",
    "###### load the data ######\n",
    "chart = billboard.ChartData('hot-100')\n",
    "\n",
    "chart_data = [\n",
    "    {\n",
    "        \"title\": song.title,\n",
    "        \"artist\": song.artist,\n",
    "        \"image\": song.image,\n",
    "        \"rank\": song.rank,\n",
    "        \"last_week\": song.lastPos,\n",
    "        \"peak_rank\": song.peakPos,\n",
    "        \"weeks_on_chart\": song.weeks,\n",
    "        \"new\": song.isNew,\n",
    "    }\n",
    "    for song in chart\n",
    "]\n",
    "\n",
    "# Convert the list of dictionaries into a Pandas DataFrame\n",
    "chart_df = pd.DataFrame(chart_data)"
   ]
  },
  {
   "cell_type": "markdown",
   "metadata": {},
   "source": [
    "### Data cleaning <a class=\"anchor\" id=\"data-cleaning\"></a>\n",
    "\n",
    "Start by subsetting and renaming the columns to be interpretable based on the [Varaible List](https://wwwn.cdc.gov/Nchs/Nhanes/Search/variablelist.aspx?Component=Questionnaire&CycleBeginYear=2013)"
   ]
  },
  {
   "cell_type": "code",
   "execution_count": null,
   "metadata": {},
   "outputs": [],
   "source": [
    "import kagglehub as kagglehub\n",
    "from kagglehub import KaggleDatasetAdapter\n",
    "import healthSurveySource as my_functions\n",
    "\n",
    "##### Load data #####\n",
    "# we can import this data via the Kaggle API (./setKaggleAPI.md)\n",
    "demographic = my_functions.kaggleAPI(file = \"demographic.csv\", kaggle_repo= \"cdc/national-health-and-nutrition-examination-survey\")\n",
    "questionnaire = my_functions.kaggleAPI(file = \"questionnaire.csv\", kaggle_repo= \"cdc/national-health-and-nutrition-examination-survey\")\n",
    "# select and rename demographic columns \n",
    "    # SEQN: Respondent sequence number\n",
    "    # RIDAGEYR: Age in years\n",
    "    # RIAGENDR: Gender (1=male, 2=female) \n",
    "\n",
    "# continuous vs. discrete variables and nominal vs. ordinal data.\n",
    "\n",
    "# mean, median, mode\n",
    "# variance, standard deviation, standard error \n",
    "# explore distirbution \n",
    "\n",
    "# id and handle outliers\n",
    "\n",
    "# covariance and correlation\n",
    "# flag multicoliniarity \n",
    "\n",
    "# do some hypothesis testing, including p-values, z-tests, t-tests, and chi-squared and ANOVA\n",
    "\n",
    "# Dive into basic probability concepts, including Bayes’ Theorem and randomization.\n",
    "\n",
    "# Understand confidence intervals.\n",
    "\n",
    "# Learn about sampling techniques, resampling methods, and common statistical biases.\n",
    "\n",
    "# experimentation \n",
    "    # How to determine sample size\n",
    "    # How to decide how long to run the test.\n",
    "    # Learn about the importance of randomization in experiments"
   ]
  },
  {
   "cell_type": "code",
   "execution_count": null,
   "metadata": {},
   "outputs": [],
   "source": []
  },
  {
   "cell_type": "code",
   "execution_count": null,
   "metadata": {},
   "outputs": [],
   "source": [
    "\n"
   ]
  }
 ],
 "metadata": {
  "kernelspec": {
   "display_name": ".my_venv",
   "language": "python",
   "name": "python3"
  },
  "language_info": {
   "codemirror_mode": {
    "name": "ipython",
    "version": 3
   },
   "file_extension": ".py",
   "mimetype": "text/x-python",
   "name": "python",
   "nbconvert_exporter": "python",
   "pygments_lexer": "ipython3",
   "version": "3.13.2"
  }
 },
 "nbformat": 4,
 "nbformat_minor": 2
}
