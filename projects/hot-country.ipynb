{
 "cells": [
  {
   "cell_type": "markdown",
   "metadata": {},
   "source": [
    "<div class=\"alert alert-block alert-warning\">\n",
    "\n",
    "### Is country hot in 2025? 🤠🌵🏜🐴\n",
    "\n",
    "**Author:** Ellie Taagen   \n",
    "\n",
    "**Date:** March 2025\n",
    "\n",
    "**Read Me:** for this notebook's features to render please open in [nbviewer](https://nbviewer.org/github.com/etaagen/python-projects/blob/main/healthSurveyProject.ipynb), instead of GitHub.  \n",
    "\n",
    "### 📓 Table of contents <a class='anchor' id='top'></a>\n",
    "- [Quickstart](#quickstart)\n",
    "- [Data cleaning](#data-cleaning)\n",
    "- [Summary](#summary)\n",
    "    \n",
    "</div>"
   ]
  },
  {
   "cell_type": "markdown",
   "metadata": {},
   "source": [
    "### Quickstart <a class=\"anchor\" id=\"quickstart\"></a>\n",
    "We are going to load the Billboard Hot 100 year-end charts for the past decade and their genres."
   ]
  },
  {
   "cell_type": "code",
   "execution_count": 31,
   "metadata": {},
   "outputs": [],
   "source": [
    "###### Import libraries ######\n",
    "import numpy as np\n",
    "import pandas as pd\n",
    "import scipy as sp\n",
    "import scipy.stats as stats\n",
    "import matplotlib.pyplot as plt\n",
    "import seaborn as sns\n",
    "import billboard\n",
    "import spotipy\n",
    "from spotipy.oauth2 import SpotifyClientCredentials\n",
    "import re\n",
    "import requests\n",
    "import json"
   ]
  },
  {
   "cell_type": "code",
   "execution_count": 32,
   "metadata": {},
   "outputs": [],
   "source": [
    "###### Import Billboard Hot 100 year-end charts from 2014- 2024 ######\n",
    "\n",
    "# Create an empty list to store all years\n",
    "all_years_data = []\n",
    "\n",
    "for my_years in range(2014, 2025):\n",
    "    \n",
    "    chart = billboard.ChartData('hot-100-songs', year=my_years)\n",
    "\n",
    "    # Create an empty list to store song data\n",
    "    chart_data = []\n",
    "\n",
    "    # Loop through the chart entries and collect data\n",
    "    for entry in range(0, len(chart.entries)): \n",
    "        song = chart.entries[entry]\n",
    "        chart_data.append({\n",
    "            \"year\": chart.year,\n",
    "            \"rank\": song.rank,\n",
    "            \"title\": song.title,\n",
    "            \"artist\": song.artist\n",
    "        })\n",
    "    chart_df = pd.DataFrame(chart_data)\n",
    "\n",
    "    all_years_data.append(chart_df)\n",
    "\n",
    "# Concatenate all yearly DataFrames into a single DataFrame\n",
    "all_years_data_df = pd.concat(all_years_data, ignore_index=True)\n",
    "\n"
   ]
  },
  {
   "cell_type": "code",
   "execution_count": 33,
   "metadata": {},
   "outputs": [],
   "source": [
    "## get a list of artists in the Billboard Hot 100\n",
    "hot_100_artists = all_years_data_df['artist'].unique()\n",
    "\n",
    "# will search for a single artist, first listed (the & symbol may mess up some of these when that is true artist name)\n",
    "# Combine all patterns into one using the | operator\n",
    "pattern = r\" Featuring| &|,| with| With| X| x| /| \\(\"\n",
    "\n",
    "# Apply re.split() with the combined pattern to each artist\n",
    "hot_100_artists_clean = [re.split(pattern, artist)[0] for artist in hot_100_artists]\n",
    "\n",
    "# remove duplicates\n",
    "hot_100_artists_clean = pd.DataFrame(hot_100_artists_clean)\n",
    "hot_100_artists_clean = hot_100_artists_clean[0].unique()"
   ]
  },
  {
   "cell_type": "code",
   "execution_count": 94,
   "metadata": {},
   "outputs": [],
   "source": [
    "##### connect to Spotify API to get genres #####\n",
    "# may need to refresh this hourly \n",
    "auth_manager = SpotifyClientCredentials(client_id='61c373aac8a44012acf0cf2d9e30c751', client_secret='a960c191c96c42dfb0d0ff14ee58d5f3')\n",
    "sp = spotipy.Spotify(auth_manager=auth_manager)"
   ]
  },
  {
   "cell_type": "code",
   "execution_count": 96,
   "metadata": {},
   "outputs": [],
   "source": [
    "# get the artist info from Spotify \n",
    "# Create an empty list to store all years\n",
    "all_artist_data = []\n",
    "\n",
    "for my_artist in range(0, len(hot_100_artists_clean)):\n",
    "    artist = hot_100_artists_clean[my_artist]\n",
    "\n",
    "    searchResults = sp.search(q=\"artist:\" + artist, type=\"artist\", market=\"US\", limit=1)\n",
    "\n",
    "    # Access the first artist's details\n",
    "    artists_data = searchResults.get('artists', {})\n",
    "    artist_items = artists_data.get('items', [])\n",
    "\n",
    "    # create empty list \n",
    "    artist_data = []\n",
    "    if artist_items:\n",
    "        first_artist = artist_items[0]\n",
    "        artist_data.append({\n",
    "                \"Name\": first_artist.get('name'),\n",
    "                \"ID\": first_artist.get('id'),\n",
    "                \"Popularity\": first_artist.get('popularity'),\n",
    "                \"Genres\": first_artist.get('genres'),\n",
    "                \"Followers\": first_artist.get('followers', {}).get('total')\n",
    "            })\n",
    "        artist_df = pd.DataFrame(artist_data)\n",
    "\n",
    "        all_artist_data.append(artist_df)\n",
    "    else:\n",
    "        artist_data.append({\n",
    "            \"Name\": np.nan,\n",
    "            \"ID\": np.nan,\n",
    "            \"Popularity\": np.nan,\n",
    "            \"Genres\": np.nan,\n",
    "            \"Followers\": np.nan\n",
    "        })\n",
    "        artist_df = pd.DataFrame(artist_data)\n",
    "\n",
    "        all_artist_data.append(artist_df)\n",
    "\n",
    "# Concatenate all DataFrames into a single DataFrame\n",
    "all_artist_data_df = pd.concat(all_artist_data, ignore_index=True)\n",
    "\n",
    "all_artist_data_df[\"Name\"].isna().sum()\n",
    "all_artist_data_df.dropna(inplace=True)"
   ]
  },
  {
   "cell_type": "markdown",
   "metadata": {},
   "source": [
    "Ok so notable a lot of the `genre` data is not populating, even for artists like Rihana. This is confirmed trend for the API [here](https://community.spotify.com/t5/Spotify-for-Developers/Get-Artist-API-is-not-returning-any-or-all-Genres/td-p/6880841). Couple of things to try: \n",
    "- use the Spotify API to search by song, but according to the API docs this won't return genre\n",
    "- use a different resource like Last FM API "
   ]
  },
  {
   "cell_type": "code",
   "execution_count": null,
   "metadata": {},
   "outputs": [],
   "source": [
    "#### Try Last FM API ####\n",
    "#Application name\tHotCountry\n",
    "#Registered to etaagen\n",
    "API_KEY = \"661ec4fffb99e8a34958b582e69bda12\"\n",
    "ARTIST_NAME = \"Pharrell Williams\"\n",
    "\n",
    "# Construct the API URL\n",
    "url = f\"http://ws.audioscrobbler.com/2.0/?method=artist.getInfo&artist={ARTIST_NAME}&api_key={API_KEY}&format=json\"\n",
    "\n",
    "# Make the request\n",
    "response = requests.get(url)\n",
    "last_fm_data = json.loads(response.text)\n",
    "test = list(last_fm_data.values())\n",
    "pd.DataFrame(test)"
   ]
  },
  {
   "cell_type": "code",
   "execution_count": 34,
   "metadata": {},
   "outputs": [],
   "source": [
    "#### Try Last FM API ####\n",
    "#Application name\tHotCountry\n",
    "#Registered to etaagen\n",
    "API_KEY = \"661ec4fffb99e8a34958b582e69bda12\"\n",
    "#ARTIST_NAME = \"Pharrell Williams\"\n",
    "\n",
    "last_fm_all_artist_data = []\n",
    "\n",
    "for my_artist in range(0, len(hot_100_artists_clean)):\n",
    "   \n",
    "    #last_fm_artist_data = []\n",
    "\n",
    "    ARTIST_NAME = hot_100_artists_clean[my_artist]\n",
    "\n",
    "    # Construct the API URL\n",
    "    url = f\"http://ws.audioscrobbler.com/2.0/?method=artist.getInfo&artist={ARTIST_NAME}&api_key={API_KEY}&format=json\"\n",
    "\n",
    "    # Make the request\n",
    "    response = requests.get(url)\n",
    "    last_fm_data = json.loads(response.text)\n",
    "\n",
    "    # Extract relevant data from the response\n",
    "    if 'artist' in last_fm_data:  # Ensure the 'artist' key exists\n",
    "        artist_info = last_fm_data['artist']\n",
    "        artist_data = {\n",
    "            \"name\": artist_info.get(\"name\"),\n",
    "            \"listeners\": artist_info.get(\"stats\", {}).get(\"listeners\"),\n",
    "            \"playcount\": artist_info.get(\"stats\", {}).get(\"playcount\"),\n",
    "            \"url\": artist_info.get(\"url\"),\n",
    "            \"tags\": [tag['name'] for tag in artist_info.get(\"tags\", {}).get(\"tag\", [])] if \"tags\" in artist_info else None\n",
    "        }\n",
    "        # Append the artist data as a dictionary to the list\n",
    "        last_fm_all_artist_data.append(artist_data)\n",
    "\n",
    "    # Convert the list of dictionaries into a single DataFrame\n",
    "    last_fm_all_artist_data_df = pd.DataFrame(last_fm_all_artist_data)\n",
    "\n",
    "    "
   ]
  },
  {
   "cell_type": "code",
   "execution_count": 36,
   "metadata": {},
   "outputs": [],
   "source": [
    "#### write to csv to avoid always reloading ####\n",
    "last_fm_all_artist_data_df.to_csv('./data/last_fm_artist_data.csv', index=False)\n",
    "all_years_data_df.to_csv('./data/hot_100_rank.csv', index=False)"
   ]
  },
  {
   "cell_type": "code",
   "execution_count": 37,
   "metadata": {},
   "outputs": [],
   "source": [
    "test = pd.read_csv('./data/last_fm_artist_data.csv')"
   ]
  },
  {
   "cell_type": "markdown",
   "metadata": {},
   "source": [
    "Need some sort of predictive ability for 2025\n",
    "Some other variables that could predict this besides top 100 could be an economic value and political and religous lean \n",
    "\n"
   ]
  },
  {
   "cell_type": "markdown",
   "metadata": {},
   "source": [
    "<div class=\"alert alert-block alert-warning\">\n",
    "\n",
    "### Summary <a class=\"anchor\" id=\"summary\"></a>\n",
    "\n",
    "In this notebook we practiced:  \n",
    "  \n",
    "\n",
    "Some additional exploration and coding could include:  \n",
    "\n",
    "\n",
    "\n",
    "### That's all for now!  \n",
    "<img src=\"snoopy.jpg\" width=\"100\" height=\"100\" style=\"vertical-align:bottom\">\n",
    "\n",
    "<div>\n"
   ]
  },
  {
   "cell_type": "markdown",
   "metadata": {},
   "source": []
  }
 ],
 "metadata": {
  "kernelspec": {
   "display_name": ".my_venv",
   "language": "python",
   "name": "python3"
  },
  "language_info": {
   "codemirror_mode": {
    "name": "ipython",
    "version": 3
   },
   "file_extension": ".py",
   "mimetype": "text/x-python",
   "name": "python",
   "nbconvert_exporter": "python",
   "pygments_lexer": "ipython3",
   "version": "3.13.2"
  }
 },
 "nbformat": 4,
 "nbformat_minor": 2
}
